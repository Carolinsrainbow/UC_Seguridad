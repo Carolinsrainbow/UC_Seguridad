{
  "cells": [
    {
      "cell_type": "markdown",
      "metadata": {
        "id": "view-in-github",
        "colab_type": "text"
      },
      "source": [
        "<a href=\"https://colab.research.google.com/github/Carolinsrainbow/UC_Seguridad/blob/main/1_aritmetica_modular.ipynb\" target=\"_parent\"><img src=\"https://colab.research.google.com/assets/colab-badge.svg\" alt=\"Open In Colab\"/></a>"
      ]
    },
    {
      "cell_type": "markdown",
      "metadata": {
        "id": "ea192cca"
      },
      "source": [
        "# Una introducción a la aritmética modular\n",
        "\n",
        "1.   Elemento de la lista\n",
        "2.   Elemento de la lista\n",
        "\n"
      ],
      "id": "ea192cca"
    },
    {
      "cell_type": "markdown",
      "metadata": {
        "id": "d6e5e4ba"
      },
      "source": [
        "## La definición del resto"
      ],
      "id": "d6e5e4ba"
    },
    {
      "cell_type": "markdown",
      "metadata": {
        "id": "044f5d5c"
      },
      "source": [
        "La aritmética modular es fundamental tanto para la criptografía simétrica, o de clave privada, como para la criptografía asimétrica, o de clave pública.\n",
        "\n",
        "La operación fundamental en la aritmética modular es el resto de la división entre números enteros. En Python, este operador es denotado como ``%``."
      ],
      "id": "044f5d5c"
    },
    {
      "cell_type": "code",
      "execution_count": null,
      "metadata": {
        "id": "9f57b33a"
      },
      "outputs": [],
      "source": [
        "9 % 2"
      ],
      "id": "9f57b33a"
    },
    {
      "cell_type": "markdown",
      "metadata": {
        "id": "cbd9361d"
      },
      "source": [
        "En este caso estamos calculando el resto de la división entera entre ``9`` y ``2``. Como ``9 = 4*2 + 1``, tenemos que la división entera entre ``9`` y ``2`` es ``4``, y el resto es ``1``. En el siguiente ejemplo calculamos el resto de la división entera entre ``17`` y ``3``."
      ],
      "id": "cbd9361d"
    },
    {
      "cell_type": "code",
      "execution_count": null,
      "metadata": {
        "id": "c589041c"
      },
      "outputs": [],
      "source": [
        "17 % 3"
      ],
      "id": "c589041c"
    },
    {
      "cell_type": "markdown",
      "metadata": {
        "id": "9257306d"
      },
      "source": [
        "Como tenemos que ``17 = 5*3 + 2``, concluimos que el resto de la división entera entre ``17`` y ``3`` es ``2``.\n",
        "\n",
        "En general, dado un número natural ``a`` mayor que ``0`` y un número entero ``b``, existe un único par de números enteros ``n``, ``m`` tales que ``b = n*a + m`` y ``0 <= m < a``. A este número ``m`` lo llamamos el resto de la división entera entre ``b`` y ``a``, que denotamos en Python como ``b % a``. Por ejemplo, el siguiente es el resto de la división entera entre ``-10``y ``3``."
      ],
      "id": "9257306d"
    },
    {
      "cell_type": "code",
      "execution_count": null,
      "metadata": {
        "id": "e2e7dd11"
      },
      "outputs": [],
      "source": [
        "-10 % 3"
      ],
      "id": "e2e7dd11"
    },
    {
      "cell_type": "markdown",
      "metadata": {
        "id": "9c638450"
      },
      "source": [
        "Para entender por qué obtuvimos este resultado, considere que ``-10 = (-4)*3 + 2``. De la misma forma, podemos obtener los siguientes resultados."
      ],
      "id": "9c638450"
    },
    {
      "cell_type": "code",
      "execution_count": null,
      "metadata": {
        "id": "a2100b5f"
      },
      "outputs": [],
      "source": [
        "print(23 % 5)\n",
        "print(-18 % 5)"
      ],
      "id": "a2100b5f"
    },
    {
      "cell_type": "markdown",
      "metadata": {
        "id": "e818a2eb"
      },
      "source": [
        "## Algunas propiedades básicas de la aritmética modular"
      ],
      "id": "e818a2eb"
    },
    {
      "cell_type": "markdown",
      "metadata": {
        "id": "30c6216d"
      },
      "source": [
        "Dado un número natural ``a`` mayor que 0, y dados dos números enteros ``b`` y ``c``, decimos que ``b`` y ``c`` son equivalente en resto ``a`` si ``b % a`` es igual a ``c % a``.\n",
        "\n",
        "Por ejemplo, los números ``1`` y ``9`` son equivalentes en resto ``2`` puesto que:"
      ],
      "id": "30c6216d"
    },
    {
      "cell_type": "code",
      "execution_count": null,
      "metadata": {
        "id": "0884268f"
      },
      "outputs": [],
      "source": [
        "print(1 % 2)\n",
        "print(9 % 2)"
      ],
      "id": "0884268f"
    },
    {
      "cell_type": "markdown",
      "metadata": {
        "id": "b7bfbc87"
      },
      "source": [
        "De la misma forma, tenemos que ``-10``, ``2`` y ``14`` son números equivalentes en resto ``3`` puesto que:"
      ],
      "id": "b7bfbc87"
    },
    {
      "cell_type": "code",
      "execution_count": null,
      "metadata": {
        "id": "24c5f973"
      },
      "outputs": [],
      "source": [
        "print(-10 % 3)\n",
        "print(2 % 3)\n",
        "print(14 % 3)"
      ],
      "id": "24c5f973"
    },
    {
      "cell_type": "markdown",
      "metadata": {
        "id": "d4dd83b0"
      },
      "source": [
        "Si dos números ``b`` y ``c`` son equivalente en resto ``a``, entonces uno puede ser reemplazado por el otro cuando se realizan operaciones en resto ``a``.\n",
        "\n",
        "En el caso de la suma, la propiedad anterior se traduce en lo siguiente. Si los números ``b`` y ``c`` son equivalente en resto ``a``, y los números ``d`` y ``e`` son equivalente en resto ``a``, entonces se tiene que ``(b + d) % a`` es igual a ``(c + e) % a``. Por ejemplo, sabemos que ``3`` y ``20`` son equivalentes en resto ``17`` puesto que:"
      ],
      "id": "d4dd83b0"
    },
    {
      "cell_type": "code",
      "execution_count": null,
      "metadata": {
        "id": "654443c3"
      },
      "outputs": [],
      "source": [
        "print(3 % 17)\n",
        "print(20 % 17)"
      ],
      "id": "654443c3"
    },
    {
      "cell_type": "markdown",
      "metadata": {
        "id": "7f5108e2"
      },
      "source": [
        "Y sabemos que ``-57`` y ``96`` son equivalente en resto ``17`` puesto que:"
      ],
      "id": "7f5108e2"
    },
    {
      "cell_type": "code",
      "execution_count": null,
      "metadata": {
        "id": "4b036b0a"
      },
      "outputs": [],
      "source": [
        "print(-57 % 17)\n",
        "print(96 % 17)"
      ],
      "id": "4b036b0a"
    },
    {
      "cell_type": "markdown",
      "metadata": {
        "id": "68273e64"
      },
      "source": [
        "Por lo tanto, los siguientes cálculos nos dan los mismos resultados:"
      ],
      "id": "68273e64"
    },
    {
      "cell_type": "code",
      "execution_count": null,
      "metadata": {
        "id": "4084d3b7"
      },
      "outputs": [],
      "source": [
        "print((3 - 57) % 17)\n",
        "print((20 + 96) % 17)"
      ],
      "id": "4084d3b7"
    },
    {
      "cell_type": "markdown",
      "metadata": {
        "id": "c22a549b"
      },
      "source": [
        "Dado que ``b % a`` es un número entre ``0`` y ``a - 1``, tenemos que ``(b % a) % a`` es igual ``b % a``. Por lo tanto siempre tenemos que ``b`` y ``b % a`` son equivalentes en resto ``a``, y ``b`` puede ser reemplazado por ``b % a`` cuando se realiza una suma en resto ``a``. Por ejemplo, el resultado de ``(20 + 96) % 17`` es el mismo de ``((20 % 17) + 96) % 17`` como se muestra a continuación:"
      ],
      "id": "c22a549b"
    },
    {
      "cell_type": "code",
      "execution_count": null,
      "metadata": {
        "id": "3067fcaa"
      },
      "outputs": [],
      "source": [
        "print((20 + 96) % 17)\n",
        "print(((20 % 17) + 96) % 17)"
      ],
      "id": "3067fcaa"
    },
    {
      "cell_type": "markdown",
      "metadata": {
        "id": "29e2e1b0"
      },
      "source": [
        "Y el resultado de ``((20 % 17) + 96) % 17`` es el mismo de ``((20 % 17) + (96 % 17)) % 17`` como se muestra a continuación."
      ],
      "id": "29e2e1b0"
    },
    {
      "cell_type": "code",
      "execution_count": null,
      "metadata": {
        "id": "744cae6a"
      },
      "outputs": [],
      "source": [
        "print(((20 % 17) + 96) % 17)\n",
        "print(((20 % 17) + (96 % 17)) % 17)"
      ],
      "id": "744cae6a"
    },
    {
      "cell_type": "markdown",
      "metadata": {
        "id": "eb3a32b9"
      },
      "source": [
        "En el caso de la multiplicación, el reemplazo de números equivalentes en resto se traduce en lo siguiente. Si los números ``b`` y ``c`` son equivalente en resto ``a``, y los números ``d`` y ``e`` son equivalente en resto ``a``, entonces se tiene que ``(b * d) % a`` es igual a ``(c * e) % a``. Por ejemplo, dado que ``3`` y ``20`` son equivalentes en resto ``17``, y ``-57`` y ``95`` son equivalente en resto ``17``, los siguientes cálculos nos dan los mismos resultados:"
      ],
      "id": "eb3a32b9"
    },
    {
      "cell_type": "code",
      "execution_count": null,
      "metadata": {
        "id": "4bf5ed71"
      },
      "outputs": [],
      "source": [
        "print((3 * (-57)) % 17)\n",
        "print((20 * 96) % 17)"
      ],
      "id": "4bf5ed71"
    },
    {
      "cell_type": "markdown",
      "metadata": {
        "id": "04fd2529"
      },
      "source": [
        "Como en el caso de la suma, debemos tener que todos los siguentes cáculos dan los mismos resultados:"
      ],
      "id": "04fd2529"
    },
    {
      "cell_type": "code",
      "execution_count": null,
      "metadata": {
        "id": "cd711390"
      },
      "outputs": [],
      "source": [
        "print((20 * 96) % 17)\n",
        "print(((20 % 17) * 96) % 17)\n",
        "print(((20 % 17) * (96 % 17)) % 17)"
      ],
      "id": "cd711390"
    },
    {
      "cell_type": "markdown",
      "metadata": {
        "id": "e851075a"
      },
      "source": [
        "Como una aplicación de las propiedades anteriores, piense como podría calcular ``(18 ** 1000) % 17``. Este cálculo se puede hacer en Python utilizando la función ``pow``:"
      ],
      "id": "e851075a"
    },
    {
      "cell_type": "code",
      "execution_count": null,
      "metadata": {
        "id": "8d72c2d4"
      },
      "outputs": [],
      "source": [
        "pow(18, 1000, 17)"
      ],
      "id": "8d72c2d4"
    },
    {
      "cell_type": "markdown",
      "metadata": {
        "id": "1e572363"
      },
      "source": [
        "Pero las propiedades anteriores nos dan una manera mucho más simple para calcular este resultado. Sabemos que ``18`` y ``18 % 17`` son números equivalentes en resto 17, por lo que ``(18 ** 1000) % 17`` debe ser igual a ``((18 % 17) ** 1000) % 17``. Pero ``18 % 17`` es igual a ``1``, por lo que ``(18 ** 1000) % 17`` es igual a ``(1 ** 1000) % 17``, lo cual nos entrega fácilmente a ``1`` como el resultado final de la operación."
      ],
      "id": "1e572363"
    },
    {
      "cell_type": "markdown",
      "metadata": {
        "id": "d717259e"
      },
      "source": [
        "Las propiedades anteriores son fundamentales para la criptografía, así que es importante que las tenga presentes."
      ],
      "id": "d717259e"
    }
  ],
  "metadata": {
    "colab": {
      "provenance": [],
      "include_colab_link": true
    },
    "kernelspec": {
      "display_name": "Python 3 (ipykernel)",
      "language": "python",
      "name": "python3"
    },
    "language_info": {
      "codemirror_mode": {
        "name": "ipython",
        "version": 3
      },
      "file_extension": ".py",
      "mimetype": "text/x-python",
      "name": "python",
      "nbconvert_exporter": "python",
      "pygments_lexer": "ipython3",
      "version": "3.9.12"
    }
  },
  "nbformat": 4,
  "nbformat_minor": 5
}