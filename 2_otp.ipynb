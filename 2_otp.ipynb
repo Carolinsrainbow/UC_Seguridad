{
  "cells": [
    {
      "cell_type": "markdown",
      "metadata": {
        "id": "view-in-github",
        "colab_type": "text"
      },
      "source": [
        "<a href=\"https://colab.research.google.com/github/Carolinsrainbow/UC_Seguridad/blob/main/2_otp.ipynb\" target=\"_parent\"><img src=\"https://colab.research.google.com/assets/colab-badge.svg\" alt=\"Open In Colab\"/></a>"
      ]
    },
    {
      "cell_type": "markdown",
      "id": "00e012d1",
      "metadata": {
        "id": "00e012d1"
      },
      "source": [
        "# El algoritmo de criptografía simétrica One-Time Pad (OTP)\n",
        "\n"
      ]
    },
    {
      "cell_type": "markdown",
      "id": "43c24991",
      "metadata": {
        "id": "43c24991"
      },
      "source": [
        "## La definición de protocolo"
      ]
    },
    {
      "cell_type": "markdown",
      "id": "a85febe0",
      "metadata": {
        "id": "a85febe0"
      },
      "source": [
        "En este tutorial nos vamos a restringir a un conjunto de símbolos que consiste de las 26 letras del alfabeto Inglés en mayúscula y del símbolo espacio ``' '``. Para esto consideramos el siguiente diccionario que codifica cada uno de estos 27 símbolos como un número entero."
      ]
    },
    {
      "cell_type": "code",
      "execution_count": null,
      "id": "0227c5f5",
      "metadata": {
        "id": "0227c5f5"
      },
      "outputs": [],
      "source": [
        "alfabeto = { 'A': 0, 'B': 1, 'C': 2, 'D': 3, 'E': 4, 'F': 5, 'G': 6, 'H': 7, 'I': 8, 'J': 9,\n",
        "             'K': 10, 'L': 11, 'M': 12, 'N': 13, 'O': 14, 'P': 15, 'Q': 16, 'R': 17, 'S': 18, 'T': 19,\n",
        "             'U': 20, 'V': 21, 'W': 22, 'X': 23, 'Y': 24, 'Z': 25, ' ': 26}"
      ]
    },
    {
      "cell_type": "markdown",
      "id": "ce075ab9",
      "metadata": {
        "id": "ce075ab9"
      },
      "source": [
        "Como una primera implementación de la criptografía simétrica, consideremos el algoritmo de criptografía simétrica One-Time Pad (OTP). En este algoritmo, cada mensaje es considerado como una lista donde cada caracter es reemplazado por un número entero entre ``0`` y ``26`` de acuerdo con el diccionario ``alfabeto``. La siguiente función permite traducir un mensaje en su representación como lista de números enteros."
      ]
    },
    {
      "cell_type": "code",
      "execution_count": null,
      "id": "b437233e",
      "metadata": {
        "id": "b437233e"
      },
      "outputs": [],
      "source": [
        "def representar_texto_lista(m):\n",
        "    lista = []\n",
        "    for i in range(len(m)):\n",
        "        lista.append(int(alfabeto[m[i]]))\n",
        "    return lista"
      ]
    },
    {
      "cell_type": "markdown",
      "id": "b928a140",
      "metadata": {
        "id": "b928a140"
      },
      "source": [
        "Por ejemplo, a continuación usamos la función ``representar_texto_lista`` para calcular la representación del mensaje ``ESTE ES UN CURSO``."
      ]
    },
    {
      "cell_type": "code",
      "execution_count": null,
      "id": "9beaa7d2",
      "metadata": {
        "id": "9beaa7d2",
        "colab": {
          "base_uri": "https://localhost:8080/"
        },
        "outputId": "746a4d85-fda8-445c-f557-b79e27ae6139"
      },
      "outputs": [
        {
          "output_type": "stream",
          "name": "stdout",
          "text": [
            "[4, 18, 19, 4, 26, 4, 18, 26, 20, 13, 26, 2, 20, 17, 18, 14]\n"
          ]
        }
      ],
      "source": [
        "mensaje = \"ESTE ES UN CURSO\"\n",
        "lista = representar_texto_lista(mensaje)\n",
        "print(lista)"
      ]
    },
    {
      "cell_type": "markdown",
      "id": "d6bba08f",
      "metadata": {
        "id": "d6bba08f"
      },
      "source": [
        "Y en el siguiente ejemplo usamos la función ``representar_texto_lista`` para calcular la representación del mensaje ``ESTE ES UN CURSO DE SEGURIDAD COMPUTACIONAL Y PROTECCION DE DATOS``."
      ]
    },
    {
      "cell_type": "code",
      "execution_count": null,
      "id": "06449832",
      "metadata": {
        "id": "06449832",
        "colab": {
          "base_uri": "https://localhost:8080/"
        },
        "outputId": "b29e9e30-2ee5-4e05-b6f9-079dbc62a8e0"
      },
      "outputs": [
        {
          "output_type": "stream",
          "name": "stdout",
          "text": [
            "[4, 18, 19, 4, 26, 4, 18, 26, 20, 13, 26, 2, 20, 17, 18, 14, 26, 3, 4, 26, 18, 4, 6, 20, 17, 8, 3, 0, 3, 26, 2, 14, 12, 15, 20, 19, 0, 2, 8, 14, 13, 0, 11, 26, 24, 26, 15, 17, 14, 19, 4, 2, 2, 8, 14, 13, 26, 3, 4, 26, 3, 0, 19, 14, 18]\n"
          ]
        }
      ],
      "source": [
        "mensaje = \"ESTE ES UN CURSO DE SEGURIDAD COMPUTACIONAL Y PROTECCION DE DATOS\"\n",
        "lista = representar_texto_lista(mensaje)\n",
        "print(lista)"
      ]
    },
    {
      "cell_type": "markdown",
      "id": "f519be5c",
      "metadata": {
        "id": "f519be5c"
      },
      "source": [
        "Además, debemos tener una función que nos permita traducir una lista de números enteros en un mensaje, de manera tal de poder transformar en mensajes los resultados de OTP."
      ]
    },
    {
      "cell_type": "code",
      "execution_count": null,
      "id": "30a93c99",
      "metadata": {
        "id": "30a93c99"
      },
      "outputs": [],
      "source": [
        "def simbolo(v):\n",
        "    for s in alfabeto:\n",
        "        if alfabeto[s] == v:\n",
        "            return(s)\n",
        "\n",
        "def representar_lista_texto(lista):\n",
        "    mensaje = \"\"\n",
        "    for i in range(len(lista)):\n",
        "        mensaje += simbolo(lista[i])\n",
        "    return mensaje"
      ]
    },
    {
      "cell_type": "markdown",
      "id": "4e269c64",
      "metadata": {
        "id": "4e269c64"
      },
      "source": [
        "Por ejemplo, a continuación usamos la función ``represent_lista_texto`` para representar como textos las listas de números enteros que habíamos calculado antes."
      ]
    },
    {
      "cell_type": "code",
      "execution_count": null,
      "id": "ee973ff2",
      "metadata": {
        "id": "ee973ff2",
        "colab": {
          "base_uri": "https://localhost:8080/"
        },
        "outputId": "860ffc85-ced2-470a-e237-4835fa7d0d0f"
      },
      "outputs": [
        {
          "output_type": "stream",
          "name": "stdout",
          "text": [
            "ESTE ES UN CURSO\n",
            "ESTE ES UN CURSO DE SEGURIDAD COMPUTACIONAL Y PROTECCION DE DATOS\n"
          ]
        }
      ],
      "source": [
        "lista1 = [4, 18, 19, 4, 26, 4, 18, 26, 20, 13, 26, 2, 20, 17, 18, 14]\n",
        "lista2 = [4, 18, 19, 4, 26, 4, 18, 26, 20, 13, 26, 2, 20, 17, 18, 14, 26, 3, 4, 26, 18, 4, 6,\n",
        "         20, 17, 8, 3, 0, 3, 26, 2, 14, 12, 15, 20, 19, 0, 2, 8, 14, 13, 0, 11, 26, 24, 26,\n",
        "         15, 17, 14, 19, 4, 2, 2, 8, 14, 13, 26, 3, 4, 26, 3, 0, 19, 14, 18]\n",
        "mensaje1 = representar_lista_texto(lista1)\n",
        "mensaje2 = representar_lista_texto(lista2)\n",
        "print(mensaje1)\n",
        "print(mensaje2)"
      ]
    },
    {
      "cell_type": "markdown",
      "id": "c4f7f876",
      "metadata": {
        "id": "c4f7f876"
      },
      "source": [
        "El algoritmo de cifrado de OTP funciona de la siguiente forma.\n",
        "\n",
        "Como vimos en clases, para que dos personas se puedan comunicar de manera segura con un protocolo de criptografía simétrica, primero se deben poner de acuerdo en una clave secreta ``clave``. Entonces, dado un texto plano ``mensaje`` y la clave secreta ``clave``, se utiliza una función de cifrado ``EncOTP`` para producir un texto cifrado. En el caso de OTP, ``EncOTP`` funciona bajo el supuesto de que ``clave`` y ``mensaje`` tienen el mismo largo, y es definida de la siguiente forma."
      ]
    },
    {
      "cell_type": "code",
      "execution_count": null,
      "id": "88ae15ad",
      "metadata": {
        "id": "88ae15ad"
      },
      "outputs": [],
      "source": [
        "def EncOTP(clave, mensaje):\n",
        "    clave_lista = representar_texto_lista(clave)\n",
        "    mensaje_lista = representar_texto_lista(mensaje)\n",
        "    cifrado_lista = []\n",
        "    for i in range(len(clave_lista)):\n",
        "          cifrado_lista.append((mensaje_lista[i] + clave_lista[i]) % 27)\n",
        "    return representar_lista_texto(cifrado_lista)"
      ]
    },
    {
      "cell_type": "markdown",
      "id": "9eb6b790",
      "metadata": {
        "id": "9eb6b790"
      },
      "source": [
        "Vale decir, el algoritmo de cifrado primero transforma ``clave`` es su representación ``[k_1, k_2, ..., k_n]`` como lista de números enteros, y transforma ``mensaje`` es su representación ``[m_1, m_2, ..., m_n]`` como lista de números enteros, de acuerdo al diccionario ``alfabeto``. Nótese que ambas listas tienen ``n`` elementos ya que suponemos que ``clave`` y ``mensaje`` tienen el mismo largo. Luego el algoritmo calcula la lista de números enteros ``[(m_1 + k_1) % 27, (m_2 + k_2) % 27, ..., (m_n + k_n) % 27]``, y retorna como mensaje cifrado la traducción de esta lista como texto, nuevamente de acuerdo al diccionario ``alfabeto``. Por ejemplo, el siguiente código muestra el cifrado del texto plano ``ESTE ES UN CURSO`` utilizando la clave ``MI CLAVE SECRETA``."
      ]
    },
    {
      "cell_type": "code",
      "execution_count": null,
      "id": "c93fa42b",
      "metadata": {
        "id": "c93fa42b",
        "colab": {
          "base_uri": "https://localhost:8080/"
        },
        "outputId": "f858fd14-98ef-4cee-c066-5597bb479378"
      },
      "outputs": [
        {
          "output_type": "stream",
          "name": "stdout",
          "text": [
            "Mensaje original:  ESTE ES UN CURSO\n",
            "Mensaje cifrado:  Q SGKEMDTEDEKVKO\n"
          ]
        }
      ],
      "source": [
        "mensaje = \"ESTE ES UN CURSO\"\n",
        "clave = \"MI CLAVE SECRETA\"\n",
        "cifrado = EncOTP(clave, mensaje)\n",
        "print(\"Mensaje original: \", mensaje)\n",
        "print(\"Mensaje cifrado: \", cifrado)"
      ]
    },
    {
      "cell_type": "markdown",
      "id": "3006ce2c",
      "metadata": {
        "id": "3006ce2c"
      },
      "source": [
        "El algoritmo de descifrado ``DecOTP`` de OTP funciona de manera similar al de cifrado, pero debe realizar otra operación con la clave secreta. Como se muestra a continuación, la entrada de este algoritmo es la clave secreta ``clave`` y un mensaje cifrado ``cifrado``, que nuevamente deben ser del mismo largo."
      ]
    },
    {
      "cell_type": "code",
      "execution_count": null,
      "id": "c77a9d95",
      "metadata": {
        "id": "c77a9d95"
      },
      "outputs": [],
      "source": [
        "def DecOTP(clave, cifrado):\n",
        "    clave_lista = representar_texto_lista(clave)\n",
        "    cifrado_lista = representar_texto_lista(cifrado)\n",
        "    mensaje_lista = []\n",
        "    for i in range(len(clave_lista)):\n",
        "          mensaje_lista.append((cifrado_lista[i] - clave_lista[i]) % 27)\n",
        "    return representar_lista_texto(mensaje_lista)"
      ]
    },
    {
      "cell_type": "markdown",
      "id": "d517e247",
      "metadata": {
        "id": "d517e247"
      },
      "source": [
        "El algoritmo de descifrado primero transforma ``clave`` es su representación ``[k_1, k_2, ..., k_n]`` como lista de números enteros, y transforma ``cifrado`` es su representación ``[c_1, c_2, ..., c_n]`` como lista de números enteros, de acuerdo al diccionario ``alfabeto``. Nótese que nuevamente ambas listas tienen ``n`` elementos ya que suponemos que ``clave`` y ``cifrado`` tienen el mismo largo. Luego el algoritmo calcula la lista de números enteros ``[(c_1 - k_1) % 27, (c_2 - k_2) % 27, ..., (c_n - k_n) % 27]``, y retorna como mensaje descifrado la traducción de esta lista como texto, nuevamente de acuerdo al diccionario ``alfabeto``. Por ejemplo, el siguiente código muestra el cifrado y descifrado del texto plano ``ESTE ES UN CURSO`` utilizando la clave ``MI CLAVE SECRETA``."
      ]
    },
    {
      "cell_type": "code",
      "execution_count": null,
      "id": "4a2d2583",
      "metadata": {
        "id": "4a2d2583",
        "colab": {
          "base_uri": "https://localhost:8080/"
        },
        "outputId": "10dbf11f-0c40-499c-fa81-5032d5852058"
      },
      "outputs": [
        {
          "output_type": "stream",
          "name": "stdout",
          "text": [
            "Mensaje original:  ESTE ES UN CURSO\n",
            "Mensaje cifrado:  Q SGKEMDTEDEKVKO\n",
            "Mensaje descifrado:  ESTE ES UN CURSO\n"
          ]
        }
      ],
      "source": [
        "mensaje = \"ESTE ES UN CURSO\"\n",
        "clave = \"MI CLAVE SECRETA\"\n",
        "cifrado = EncOTP(clave, mensaje)\n",
        "descifrado = DecOTP(clave, cifrado)\n",
        "print(\"Mensaje original: \", mensaje)\n",
        "print(\"Mensaje cifrado: \", cifrado)\n",
        "print(\"Mensaje descifrado: \", descifrado)"
      ]
    },
    {
      "cell_type": "markdown",
      "id": "ca9bece9",
      "metadata": {
        "id": "ca9bece9"
      },
      "source": [
        "Como esperábamos, el resultado de descifrar un mensaje con la clave correcta es el mensaje original. O en términos de la notación que usamos en clases, tenemos que:\n",
        "\n",
        "$\\textit{DecOTP}(\\textit{clave}, \\textit{EncOTP}(\\textit{clave}, \\textit{mensaje})) = \\textit{mensaje}$\n",
        "\n",
        "A continuación tenemos un segundo ejemplo del proceso de cifrado y descifrado en OTP."
      ]
    },
    {
      "cell_type": "code",
      "execution_count": null,
      "id": "2e542c48",
      "metadata": {
        "id": "2e542c48",
        "colab": {
          "base_uri": "https://localhost:8080/"
        },
        "outputId": "c9ac6df7-eb3e-453a-877f-9fd90f599fe2"
      },
      "outputs": [
        {
          "output_type": "stream",
          "name": "stdout",
          "text": [
            "Mensaje original:  ESTE ES UN CURSO DE SEGURIDAD COMPUTACIONAL Y PROTECCION DE DATOS\n",
            "Mensaje cifrado:  Q SGKEMDTEDEKVKOZHASWRJBUICCRMBQMFUVTGZSE LQZHHHOJMQUHXQHFRDKFZFZ\n",
            "Mensaje descifrado:  ESTE ES UN CURSO DE SEGURIDAD COMPUTACIONAL Y PROTECCION DE DATOS\n"
          ]
        }
      ],
      "source": [
        "mensaje = \"ESTE ES UN CURSO DE SEGURIDAD COMPUTACIONAL Y PROTECCION DE DATOS\"\n",
        "clave = \"MI CLAVE SECRETA EXTENDIDA CON CARACTERES ARBITRARIOS JDICNEHFGSH\"\n",
        "cifrado = EncOTP(clave, mensaje)\n",
        "descifrado = DecOTP(clave, cifrado)\n",
        "print(\"Mensaje original: \", mensaje)\n",
        "print(\"Mensaje cifrado: \", cifrado)\n",
        "print(\"Mensaje descifrado: \", descifrado)"
      ]
    },
    {
      "cell_type": "markdown",
      "id": "123699f9",
      "metadata": {
        "id": "123699f9"
      },
      "source": [
        "¿Y qué sucede si utilizamos la clave secreta incorrecta? Como esperamos, el proceso de descifrado no entrega el mensaje original."
      ]
    },
    {
      "cell_type": "code",
      "execution_count": null,
      "id": "7aa136d5",
      "metadata": {
        "id": "7aa136d5",
        "colab": {
          "base_uri": "https://localhost:8080/"
        },
        "outputId": "c84feebe-9196-4ad1-a25d-c8596549ffe5"
      },
      "outputs": [
        {
          "output_type": "stream",
          "name": "stdout",
          "text": [
            "Mensaje original:  ESTE ES UN CURSO\n",
            "Mensaje cifrado:  Q SGKEMDTEDEKVKO\n",
            "Mensaje descifrado:  XNSHIUMJPFWSIHUY\n"
          ]
        }
      ],
      "source": [
        "mensaje = \"ESTE ES UN CURSO\"\n",
        "clave = \"MI CLAVE SECRETA\"\n",
        "clave2 = \"UNA CLAVE INCORR\"\n",
        "cifrado = EncOTP(clave, mensaje)\n",
        "descifrado = DecOTP(clave2, cifrado)\n",
        "print(\"Mensaje original: \", mensaje)\n",
        "print(\"Mensaje cifrado: \", cifrado)\n",
        "print(\"Mensaje descifrado: \", descifrado)"
      ]
    },
    {
      "cell_type": "markdown",
      "id": "2fe7187c",
      "metadata": {
        "id": "2fe7187c"
      },
      "source": [
        "¿Por qué funciona de manera correcta OTP? O según la notación que usamos en clases, ¿por qué tenemos que $\\textit{DecOTP}(\\textit{clave}, \\textit{EncOTP}(\\textit{clave}, \\textit{mensaje})) = \\textit{mensaje}$? Para responder a esta pregunta, tenemos que utilizar las propiedades que aprendimos en un tutorial anterior sobre aritmética modular.\n",
        "\n",
        "Suponga que el primer símbolo de ``mensaje`` es ``m`` y que el primer símbolo de ``clave`` es ``k``, cuando hemos representado a ``mensaje`` y ``clave`` como listas de números enteros. Entonces al calcular $\\textit{DecOTP}(\\textit{clave}, \\textit{EncOTP}(\\textit{clave}, \\textit{mensaje}))$ realizamos las siguientes operaciones con el símbolo ``m``:\n",
        "\n",
        "``(((m + k) % 27) - k) % 27``\n",
        "\n",
        "Como ``(m + k) % 27`` y ``(m + k)`` son equivalentes en resto 27, el valor anterior es igual a:\n",
        "\n",
        "``(((m + k) - k) % 27``\n",
        "\n",
        "Y como estamos sumando y restando ``k``, obtenemos que este valor es igual a:\n",
        "\n",
        "``m % 27``\n",
        "\n",
        "Finalmente obtenemos que este valor es igual a ``m``, ya que ``m`` es un número entre ``0`` y ``26``.\n",
        "\n",
        "De la misma forma, podemos demostrar que para los otros símbolos del mensaje y la clave, al cifrarlos y descifrarlos obtenemos el símbolo original."
      ]
    },
    {
      "cell_type": "markdown",
      "id": "77d4375b",
      "metadata": {
        "id": "77d4375b"
      },
      "source": [
        "## OTP en la práctica"
      ]
    },
    {
      "cell_type": "markdown",
      "id": "4609e9af",
      "metadata": {
        "id": "4609e9af"
      },
      "source": [
        "Se puede demostrar de forma matemática que OTP es un esquema criptográfico seguro. Sin embargo, OTP tienes dos deventajas si queremos utilizarlo en aplicaciones prácticas.\n",
        "\n",
        "1. Los textos planos y las claves deben tener el mismo largo.\n",
        "2. Cada clave debe ser utilizada una solo vez. Vale decir, si ya se utilizó ``clave`` para cifrar ``mensaje``, y ahora se necesita cifrar un segundo mensaje ``mensaje2``, entonces **no** se debe utilizar ``clave`` para cifrar ``mensaje2``.\n",
        "\n",
        "En las aplicaciones prácticas se espera que las claves puedan ser mucho más pequeñas que los mensajes a cifrar. En la primera tarea del curso, veremos cómo se puede modificar OTP para lograr esta condición."
      ]
    }
  ],
  "metadata": {
    "colab": {
      "provenance": [],
      "include_colab_link": true
    },
    "kernelspec": {
      "display_name": "Python 3 (ipykernel)",
      "language": "python",
      "name": "python3"
    },
    "language_info": {
      "codemirror_mode": {
        "name": "ipython",
        "version": 3
      },
      "file_extension": ".py",
      "mimetype": "text/x-python",
      "name": "python",
      "nbconvert_exporter": "python",
      "pygments_lexer": "ipython3",
      "version": "3.9.12"
    }
  },
  "nbformat": 4,
  "nbformat_minor": 5
}