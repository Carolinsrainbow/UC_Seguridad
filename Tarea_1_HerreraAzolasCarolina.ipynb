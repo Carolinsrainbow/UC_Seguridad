{
  "cells": [
    {
      "cell_type": "markdown",
      "metadata": {
        "id": "view-in-github",
        "colab_type": "text"
      },
      "source": [
        "<a href=\"https://colab.research.google.com/github/Carolinsrainbow/UC_Seguridad/blob/main/Tarea_1_HerreraAzolasCarolina.ipynb\" target=\"_parent\"><img src=\"https://colab.research.google.com/assets/colab-badge.svg\" alt=\"Open In Colab\"/></a>"
      ]
    },
    {
      "cell_type": "markdown",
      "id": "3e32b525",
      "metadata": {
        "id": "3e32b525"
      },
      "source": [
        "# Tarea: OTP en la práctica"
      ]
    },
    {
      "cell_type": "markdown",
      "id": "6d62552a",
      "metadata": {
        "id": "6d62552a"
      },
      "source": [
        "El objetivo de esta tarea es que extienda el protocolo criptográfico OTP para que pueda funcionar correctamente cuando la clave es más corta que el mensaje, la cual es la situación usual en la práctica.\n",
        "\n",
        "Como en el turorial sobre OTP, nos vamos a restringir a un conjunto de símbolos que consiste de las 26 letras del alfabeto Inglés en mayúscula y el símbolo espacio ``' '``, pero extendido con el salto de línea ``\\n`` y algunos signos de puntuación. Para esto consideramos el siguiente diccionario que codifica cada uno de estos 32 símbolos como un número entero."
      ]
    },
    {
      "cell_type": "code",
      "execution_count": 1,
      "id": "22c9f153",
      "metadata": {
        "id": "22c9f153"
      },
      "outputs": [],
      "source": [
        "alfabeto = { 'A': 0, 'B': 1, 'C': 2, 'D': 3, 'E': 4, 'F': 5, 'G': 6, 'H': 7, 'I': 8, 'J': 9,\n",
        "             'K': 10, 'L': 11, 'M': 12, 'N': 13, 'O': 14, 'P': 15, 'Q': 16, 'R': 17, 'S': 18,\n",
        "             'T': 19, 'U': 20, 'V': 21, 'W': 22, 'X': 23, 'Y': 24, 'Z': 25, ' ': 26, '\\n' : 27,\n",
        "             ',': 28, '.': 29, '!': 30, ';': 31}"
      ]
    },
    {
      "cell_type": "markdown",
      "id": "4878a24a",
      "metadata": {
        "id": "4878a24a"
      },
      "source": [
        "A continuación tenemos la función ``_EncOTP`` que permite cifrar un texto plano ``mensaje`` utilizando ``clave``, bajo el supuesto de que ambos tienen el mismo largo. Además, tenemos la función ``_DecOTP`` que permite descifrar un texto ``cifrado`` utilizando ``clave``, bajo el mismo supuesto de que ambos tienen el mismo largo. Ambas funciones, junto con una serie de procedimientos auxiliares necesarios para implementarlas, fueron explicadas en el tutorial sobre OTP. El único cambio que hemos realizado aquí es considerar un alfabeto con más símbolos. Su primera tarea es estudiar y entender en detalle cada una de las siguientes funciones."
      ]
    },
    {
      "cell_type": "code",
      "execution_count": 2,
      "id": "3f2f93c1",
      "metadata": {
        "id": "3f2f93c1"
      },
      "outputs": [],
      "source": [
        "def representar_texto_lista(m):\n",
        "    lista = []\n",
        "    for i in range(len(m)):\n",
        "        lista.append(int(alfabeto[m[i]]))\n",
        "    return lista\n",
        "\n",
        "\n",
        "def simbolo(v):\n",
        "    for s in alfabeto:\n",
        "        if alfabeto[s] == v:\n",
        "            return(s)\n",
        "\n",
        "\n",
        "def representar_lista_texto(lista):\n",
        "    mensaje = \"\"\n",
        "    for i in range(len(lista)):\n",
        "        mensaje += simbolo(lista[i])\n",
        "    return mensaje\n",
        "\n",
        "\n",
        "def _EncOTP(clave, mensaje):\n",
        "    clave_lista = representar_texto_lista(clave)\n",
        "    mensaje_lista = representar_texto_lista(mensaje)\n",
        "    cifrado_lista = []\n",
        "    for i in range(len(clave_lista)):\n",
        "          cifrado_lista.append((mensaje_lista[i] + clave_lista[i]) % len(alfabeto))\n",
        "    return representar_lista_texto(cifrado_lista)\n",
        "\n",
        "\n",
        "def _DecOTP(clave, cifrado):\n",
        "    clave_lista = representar_texto_lista(clave)\n",
        "    cifrado_lista = representar_texto_lista(cifrado)\n",
        "    mensaje_lista = []\n",
        "    for i in range(len(clave_lista)):\n",
        "          mensaje_lista.append((cifrado_lista[i] - clave_lista[i]) % len(alfabeto))\n",
        "    return representar_lista_texto(mensaje_lista)"
      ]
    },
    {
      "cell_type": "markdown",
      "id": "353e6753",
      "metadata": {
        "id": "353e6753"
      },
      "source": [
        "Nótese que utilizamos el símbolo ``_`` en el nombre de la función ``_EncOTP`` para indicar que esta función sólo es de uso interno, y no debería ser invocada por un usuario que quiera cifrar un mensaje. La razón para esto es que esta función está diseñada para funcionar con mensajes y claves del mismo largo, y la función ``EncOTP`` que usted va a diseñar en esta tarea tiene que funcionar en el caso general en el que este supuesto no es cierto. Por la misma razón, utilizamos la notación ``_DecOTP``, y usted va a tener que construir ``DecOTP``.\n",
        "\n",
        "A continuación mostramos un ejemplo donde ciframos y desciframos un mensaje con las funciones anteriores."
      ]
    },
    {
      "cell_type": "code",
      "execution_count": 3,
      "id": "5a1d1930",
      "metadata": {
        "id": "5a1d1930",
        "colab": {
          "base_uri": "https://localhost:8080/"
        },
        "outputId": "6b4dfb75-162e-4e01-cc51-d9d7b8b208f5"
      },
      "outputs": [
        {
          "output_type": "stream",
          "name": "stdout",
          "text": [
            "JUZGADOS\n",
            "A\n",
            "MUDH;X\n",
            "JUZGADOS\n"
          ]
        }
      ],
      "source": [
        "mensaje = \"JUZGADOS\"\n",
        "cifrado = _EncOTP(\"XHTODERF\", mensaje)\n",
        "descifrado = _DecOTP(\"XHTODERF\", cifrado)\n",
        "print(f\"{mensaje}\\n{cifrado}\\n{descifrado}\")"
      ]
    },
    {
      "cell_type": "markdown",
      "id": "57bfde71",
      "metadata": {
        "id": "57bfde71"
      },
      "source": [
        "Como esperábamos, en el ejemplo anterior el mensaje ``JUZGADOS`` y la clave ``XHTODERF`` tienen el mismo largo.\n",
        "\n",
        "Para poder utilizar OTP cuando la clave es más corta que el mensaje, vamos a utilizar la clave como la semilla en un generador de números aleatorios, el cual vamos a utilizar para generar una nueva clave tan larga como el mensaje. Para implementar este enfoque, vamos a utilizar la librería ``random`` de Python, y la función ``randint``."
      ]
    },
    {
      "cell_type": "code",
      "execution_count": 4,
      "id": "c875d796",
      "metadata": {
        "id": "c875d796",
        "colab": {
          "base_uri": "https://localhost:8080/"
        },
        "outputId": "cfd004cf-c245-4883-c160-79f3d123d192"
      },
      "outputs": [
        {
          "output_type": "stream",
          "name": "stdout",
          "text": [
            "1\n",
            "1\n",
            "1\n",
            "1\n",
            "0\n",
            "1\n",
            "1\n",
            "1\n",
            "1\n",
            "0\n"
          ]
        }
      ],
      "source": [
        "import random\n",
        "\n",
        "for i in range(10):\n",
        "    print(random.randint(0, 1))"
      ]
    },
    {
      "cell_type": "markdown",
      "id": "46f7945b",
      "metadata": {
        "id": "46f7945b"
      },
      "source": [
        "La llamada ``randint(a, b)`` genera un número entero aleatorio ``x`` tal que ``a <= x <= b``. La clase ``int`` de Python puede manejar números enteros de largo arbitrario, y de la misma forma ``randint`` puede generar números enteros aleatorios de largo arbitrario."
      ]
    },
    {
      "cell_type": "code",
      "execution_count": 5,
      "id": "5f2519dc",
      "metadata": {
        "id": "5f2519dc",
        "colab": {
          "base_uri": "https://localhost:8080/"
        },
        "outputId": "b50fa0c7-127d-432f-bf5a-069974e81ddc"
      },
      "outputs": [
        {
          "output_type": "stream",
          "name": "stdout",
          "text": [
            "4315409940237223174031948269695218207878291675540355277621952344620281613487436943843559345047808040\n",
            "-3906431369340496602632439379037341667361871116327994263178025081418342881222105862778278125806167675\n",
            "4693073538033581480756709903153156197850652412967575551476200758908368512737804638768171523768362374\n",
            "7137258402407972444112519153149933309589155696007242266747775667271717619795257878492507687203536870\n",
            "4874363119381136563685367560953485976927575454558647789405123381223458313969456204310354246710346458\n",
            "504216192693586772169409094562087960909027131704376187796462301929026388558748582752347483918238076\n",
            "8853846777655711872571062641596322336809251588203182760238034834172126783179930021530358352167046505\n",
            "2954588092279684408624314123497548136744145433889636560499532276293188064999105199379389907331363669\n",
            "3398588856479163394523512384375770708227794227389247974725256955193962638157371378463700877561752011\n",
            "-5687236646558560714734283467149485506189810063027519783884104178429475544204866005128055640097680210\n"
          ]
        }
      ],
      "source": [
        "for i in range(10):\n",
        "    print(random.randint(-(10**100), 10**100))"
      ]
    },
    {
      "cell_type": "markdown",
      "id": "b419affc",
      "metadata": {
        "id": "b419affc"
      },
      "source": [
        "Los números aleatorios generados por ``randint`` son contruidos a partir de un valor inicial o **semilla**. Si esta semilla no es dada de manera explicita, entonces es definida por Python y nos encontramos con valores aleatorios distintos cada vez que llamamos a la función ``randint``."
      ]
    },
    {
      "cell_type": "code",
      "execution_count": 6,
      "id": "8d48b7d2",
      "metadata": {
        "id": "8d48b7d2",
        "colab": {
          "base_uri": "https://localhost:8080/"
        },
        "outputId": "58c5a068-eedd-476d-9208-c27ac5a24a35"
      },
      "outputs": [
        {
          "output_type": "stream",
          "name": "stdout",
          "text": [
            "-27893982712957348778761147641398924784836650038395538819930885117517239825328404145352289698545100\n",
            "3847301690060905825915459015682767014871816170449534466883651751435917182226040607664653588823230462\n",
            "6401608871848682463206981431329834025857501561072787428184991791497483494303785990343713911183699358\n",
            "-7902732653550101077605379268237628521665422401315945734912714027704786265301604671521316620987726664\n",
            "-6934586674434379339580387655990477465992862068116733383488032770677939300916502062501450080457426018\n",
            "5046492389632567148133942064444363387861025893034123206383830620208024766786421457511746039638534372\n",
            "8860774184354597084246412518218030275947129289468998659993500438847464855814953783659547071418496170\n",
            "-6419188695580848725251822452908330318187294953684384078517866255129291407063754813714752329069196733\n",
            "4816048499125026894593571121788384493036681638603820356306047221693983373539407574595574459049571394\n",
            "8375226574790499489062572816932812529373708396600715396492117304447868958769653648804213767259798927\n"
          ]
        }
      ],
      "source": [
        "for i in range(10):\n",
        "    print(random.randint(-(10**100), 10**100))"
      ]
    },
    {
      "cell_type": "markdown",
      "id": "a3f77a3b",
      "metadata": {
        "id": "a3f77a3b"
      },
      "source": [
        "Sin embargo, la semilla de ``randint`` puede ser definida a través de la función ``seed``."
      ]
    },
    {
      "cell_type": "code",
      "execution_count": 7,
      "id": "ea7c6c72",
      "metadata": {
        "id": "ea7c6c72",
        "colab": {
          "base_uri": "https://localhost:8080/"
        },
        "outputId": "468359be-8b86-4ee2-a2cc-b559442c36bb"
      },
      "outputs": [
        {
          "output_type": "stream",
          "name": "stdout",
          "text": [
            "8711600494022973757927074957965738644324128741809009356649523315171551510748054244168768592042580044\n",
            "-2964297909258499355352801805179716129421520159173882863947087952916278756606899041144295924180492060\n",
            "-9963489872032333227341178705455085122118478833301134944649477678776566957866337532257054686524871222\n",
            "9182807805484118137516965655759002276321254687919498390083009759262573565802661851132993689732144986\n",
            "2500290660143724019404560076353983650719048893941755008330583525340080576650024668964166297662038878\n",
            "6971199532614052867771130714762498547287437544297752978655067807933943030412760963712114940611591305\n",
            "5740393701883547881209102691360641389727694170081387814204769307404558408798100963342531500957368135\n",
            "2963004951926965706231848636313286172021054863995325009853706177347418396716738196505272356719557256\n",
            "493874583105159510691314383979104638416987172271760647113291914565433057735545549788727516458330748\n",
            "-4205694373905867156572028189627593985099732436752353074414064339712386994099700183892285826303411033\n"
          ]
        }
      ],
      "source": [
        "random.seed(1000)\n",
        "\n",
        "for i in range(10):\n",
        "    print(random.randint(-(10**100), 10**100))"
      ]
    },
    {
      "cell_type": "markdown",
      "id": "356d1c75",
      "metadata": {
        "id": "356d1c75"
      },
      "source": [
        "Si utilizamos la misma semilla, entonces siempre vamos a ver los mismos números aletarorios generados."
      ]
    },
    {
      "cell_type": "code",
      "execution_count": 8,
      "id": "8ef8c6d8",
      "metadata": {
        "id": "8ef8c6d8",
        "colab": {
          "base_uri": "https://localhost:8080/"
        },
        "outputId": "0081b1d7-3a6f-40cd-8eff-900fffe23381"
      },
      "outputs": [
        {
          "output_type": "stream",
          "name": "stdout",
          "text": [
            "8711600494022973757927074957965738644324128741809009356649523315171551510748054244168768592042580044\n",
            "-2964297909258499355352801805179716129421520159173882863947087952916278756606899041144295924180492060\n",
            "-9963489872032333227341178705455085122118478833301134944649477678776566957866337532257054686524871222\n",
            "9182807805484118137516965655759002276321254687919498390083009759262573565802661851132993689732144986\n",
            "2500290660143724019404560076353983650719048893941755008330583525340080576650024668964166297662038878\n",
            "6971199532614052867771130714762498547287437544297752978655067807933943030412760963712114940611591305\n",
            "5740393701883547881209102691360641389727694170081387814204769307404558408798100963342531500957368135\n",
            "2963004951926965706231848636313286172021054863995325009853706177347418396716738196505272356719557256\n",
            "493874583105159510691314383979104638416987172271760647113291914565433057735545549788727516458330748\n",
            "-4205694373905867156572028189627593985099732436752353074414064339712386994099700183892285826303411033\n"
          ]
        }
      ],
      "source": [
        "random.seed(1000)\n",
        "\n",
        "for i in range(10):\n",
        "    print(random.randint(-(10**100), 10**100))"
      ]
    },
    {
      "cell_type": "markdown",
      "id": "df57d707",
      "metadata": {
        "id": "df57d707"
      },
      "source": [
        "En esta tarea, dado un texto plano ``mensaje`` y una clave secreta ``clave``, usted debe utilizar la función ``seed`` para indicar que ``clave`` es la semilla que será utilizada por ``randint`` para generar números aleatorios que serán utilizados para construir una clave tan larga como ``mensaje``, de manera tal de poder utilizar ``_EncOTP`` para poder cifrar ``mensaje``.\n",
        "\n",
        "Como primera tarea, debe implementar la siguiente función que considera ``clave`` como un número en base ``32``, y lo transforma en su representacional decimal."
      ]
    },
    {
      "cell_type": "code",
      "execution_count": 19,
      "id": "99016389",
      "metadata": {
        "id": "99016389"
      },
      "outputs": [],
      "source": [
        "def representar_numero(clave):\n",
        "    numero = 0\n",
        "    base = 32\n",
        "    for caracter in clave:\n",
        "        numero = numero * base + alfabeto[caracter]\n",
        "    return numero"
      ]
    },
    {
      "cell_type": "code",
      "execution_count": 20,
      "id": "833fd942",
      "metadata": {
        "id": "833fd942",
        "colab": {
          "base_uri": "https://localhost:8080/"
        },
        "outputId": "690e740e-e21b-443f-f17b-106a42b82a3c"
      },
      "outputs": [
        {
          "output_type": "execute_result",
          "data": {
            "text/plain": [
              "853021"
            ]
          },
          "metadata": {},
          "execution_count": 20
        }
      ],
      "source": [
        "representar_numero(\" BA.\")"
      ]
    },
    {
      "cell_type": "markdown",
      "id": "1634fd15",
      "metadata": {
        "id": "1634fd15"
      },
      "source": [
        "Por ejemplo, la representación de ``\" BA.\"`` como número decimal es ``853021`` puesto de acuerdo al diccionario ``alfabeto`` el espacio representa al número ``26``, el símbolo ``B`` representa al número ``1``, el símbolo ``A`` representa al número ``0``, y el símbolo ``.`` representa al número ``29``, por lo cual la representación decimal de ``\" BA.\"`` es:"
      ]
    },
    {
      "cell_type": "code",
      "execution_count": 21,
      "id": "5746d834",
      "metadata": {
        "id": "5746d834",
        "colab": {
          "base_uri": "https://localhost:8080/"
        },
        "outputId": "06b7250a-f8fc-429c-9382-7e38bc23dff1"
      },
      "outputs": [
        {
          "output_type": "execute_result",
          "data": {
            "text/plain": [
              "853021"
            ]
          },
          "metadata": {},
          "execution_count": 21
        }
      ],
      "source": [
        "26*(32**3) + 1*(32**2) + 0*(32**1) + 29*(32**0)"
      ]
    },
    {
      "cell_type": "markdown",
      "id": "ab9b9237",
      "metadata": {
        "id": "ab9b9237"
      },
      "source": [
        "Dejamos a continuación algunos ejemplos con sus resultados para que pueda verificar que su implementación de la función ``representar_numero`` es correcta."
      ]
    },
    {
      "cell_type": "code",
      "execution_count": 22,
      "id": "3065537b",
      "metadata": {
        "id": "3065537b",
        "colab": {
          "base_uri": "https://localhost:8080/"
        },
        "outputId": "9b52ef4f-b754-42b8-a867-be8800800e39"
      },
      "outputs": [
        {
          "output_type": "stream",
          "name": "stdout",
          "text": [
            "798442492453\n",
            "0\n",
            "224661477179998607071610158486595787614080674076652752338\n",
            "41025822757193423572004241409336427492279391063092877086162\n",
            "224661477179998607071610158486595787614080674076652752338\n",
            "7189167269759955426291525071571065203650581570452888074816\n",
            "0\n"
          ]
        }
      ],
      "source": [
        "claves = [\"XHTODERF\", \"A\", \"ESTE ES UN CURSO DE SEGURIDAD DE DATOS\", \" ESTE ES UN CURSO DE SEGURIDAD DE DATOS\",\n",
        "          \"AESTE ES UN CURSO DE SEGURIDAD DE DATOS\", \"ESTE ES UN CURSO DE SEGURIDAD DE DATOSA\", \"AAAAA\"]\n",
        "\n",
        "for clave in claves:\n",
        "    print(representar_numero(clave))"
      ]
    },
    {
      "cell_type": "markdown",
      "id": "8dcecc23",
      "metadata": {
        "id": "8dcecc23"
      },
      "source": [
        "En particular, en este caso usted debe obtener como resultado la siguiente lista de números:\n",
        "```\n",
        "798442492453\n",
        "0\n",
        "224661477179998607071610158486595787614080674076652752338\n",
        "41025822757193423572004241409336427492279391063092877086162\n",
        "224661477179998607071610158486595787614080674076652752338\n",
        "7189167269759955426291525071571065203650581570452888074816\n",
        "0\n",
        "```"
      ]
    },
    {
      "cell_type": "markdown",
      "id": "70ab07ec",
      "metadata": {
        "id": "70ab07ec"
      },
      "source": [
        "A continuación usted debe implementar la función ``representar_clave`` que puede entenderse como la función inversa de ``representar_numero``. Vale decir, ``representar_clave`` recibe como entrada un número natural ``numero`` y construye su representación como un número en base ``32`` según los símbolos del diccionario ``alfabeto``. Adicionalmente, la función ``representar_clave`` recibe el largo de la clave que debe construir."
      ]
    },
    {
      "cell_type": "code",
      "execution_count": 23,
      "id": "fa5ecff9",
      "metadata": {
        "id": "fa5ecff9"
      },
      "outputs": [],
      "source": [
        "def representar_clave(numero, largo):\n",
        "    base = 32\n",
        "    clave = \"\"\n",
        "    inverso_alfabeto = {v: k for k, v in alfabeto.items()}\n",
        "    for _ in range(largo):\n",
        "        resto = numero % base\n",
        "        clave = inverso_alfabeto[resto] + clave\n",
        "        numero = numero // base\n",
        "    return clave"
      ]
    },
    {
      "cell_type": "markdown",
      "id": "1a0c5645",
      "metadata": {
        "id": "1a0c5645"
      },
      "source": [
        "Como un primer ejemplo del uso de esta función, considere lo siguiente."
      ]
    },
    {
      "cell_type": "code",
      "execution_count": 24,
      "id": "73712fca",
      "metadata": {
        "id": "73712fca",
        "colab": {
          "base_uri": "https://localhost:8080/"
        },
        "outputId": "a16e9f0a-932c-49b4-d671-08135c126521"
      },
      "outputs": [
        {
          "output_type": "stream",
          "name": "stdout",
          "text": [
            "853021\n",
            " BA.\n"
          ]
        }
      ],
      "source": [
        "n = representar_numero(\" BA.\")\n",
        "c = representar_clave(n, 4)\n",
        "print(n)\n",
        "print(c)"
      ]
    },
    {
      "cell_type": "markdown",
      "id": "cf7dab40",
      "metadata": {
        "id": "cf7dab40"
      },
      "source": [
        "Obtuvimos el resultado esperado, al igual que en el siguiente caso."
      ]
    },
    {
      "cell_type": "code",
      "execution_count": 25,
      "id": "f80d16a1",
      "metadata": {
        "id": "f80d16a1",
        "colab": {
          "base_uri": "https://localhost:8080/"
        },
        "outputId": "46812fd8-91ef-4386-eb29-8712543d3945"
      },
      "outputs": [
        {
          "output_type": "stream",
          "name": "stdout",
          "text": [
            "0\n",
            "A\n"
          ]
        }
      ],
      "source": [
        "n = representar_numero(\"A\")\n",
        "c = representar_clave(n, 1)\n",
        "print(n)\n",
        "print(c)"
      ]
    },
    {
      "cell_type": "markdown",
      "id": "5c09fbb2",
      "metadata": {
        "id": "5c09fbb2"
      },
      "source": [
        "¿Pero cómo podríamos obtener la clave ``AAAAA``? Para esto tenemos que especificar el largo apropiado."
      ]
    },
    {
      "cell_type": "code",
      "execution_count": 26,
      "id": "c2d15107",
      "metadata": {
        "id": "c2d15107",
        "colab": {
          "base_uri": "https://localhost:8080/"
        },
        "outputId": "fd92b2b1-4629-42cc-93bb-1dd64f1fe3d2"
      },
      "outputs": [
        {
          "output_type": "stream",
          "name": "stdout",
          "text": [
            "0\n",
            "AAAAA\n"
          ]
        }
      ],
      "source": [
        "n = representar_numero(\"A\")\n",
        "c = representar_clave(n, 5)\n",
        "print(n)\n",
        "print(c)"
      ]
    },
    {
      "cell_type": "markdown",
      "id": "f4b96465",
      "metadata": {
        "id": "f4b96465"
      },
      "source": [
        "Los siguientes ejemplos muestras que la función ``representar_clave`` funciona como la inversa de la función ``representar_numero`` cuando es dado el largo apropiado. Usted debe utilizar estos ejemplos para verificar si su implementación de la función ``representar_clave`` es correcta."
      ]
    },
    {
      "cell_type": "code",
      "execution_count": 27,
      "id": "1569f525",
      "metadata": {
        "id": "1569f525",
        "colab": {
          "base_uri": "https://localhost:8080/"
        },
        "outputId": "f709885b-7f4e-4484-eb7f-666e22da636e"
      },
      "outputs": [
        {
          "output_type": "stream",
          "name": "stdout",
          "text": [
            "XHTODERF\n",
            "XHTODERF\n",
            "\n",
            "ESTE ES UN CURSO DE SEGURIDAD DE DATOS\n",
            "ESTE ES UN CURSO DE SEGURIDAD DE DATOS\n",
            "\n",
            " ESTE ES UN CURSO DE SEGURIDAD DE DATOS\n",
            " ESTE ES UN CURSO DE SEGURIDAD DE DATOS\n",
            "\n",
            "AESTE ES UN CURSO DE SEGURIDAD DE DATOS\n",
            "AESTE ES UN CURSO DE SEGURIDAD DE DATOS\n",
            "\n",
            "ESTE ES UN CURSO DE SEGURIDAD DE DATOSA\n",
            "ESTE ES UN CURSO DE SEGURIDAD DE DATOSA\n",
            "\n",
            "UN MENSAJE ALEATORIO\n",
            "UN MENSAJE ALEATORIO\n",
            "\n"
          ]
        }
      ],
      "source": [
        "claves = [\"XHTODERF\", \"ESTE ES UN CURSO DE SEGURIDAD DE DATOS\", \" ESTE ES UN CURSO DE SEGURIDAD DE DATOS\",\n",
        "          \"AESTE ES UN CURSO DE SEGURIDAD DE DATOS\", \"ESTE ES UN CURSO DE SEGURIDAD DE DATOSA\", \"UN MENSAJE ALEATORIO\"]\n",
        "\n",
        "for clave in claves:\n",
        "    n = representar_numero(clave)\n",
        "    c = representar_clave(n, len(clave))\n",
        "    print(f\"{clave}\\n{c}\\n\")"
      ]
    },
    {
      "cell_type": "markdown",
      "id": "f1e3ab03",
      "metadata": {
        "id": "f1e3ab03"
      },
      "source": [
        "En particular, en este caso usted debe obtener el siguiente resultado:\n",
        "```\n",
        "XHTODERF\n",
        "XHTODERF\n",
        "\n",
        "ESTE ES UN CURSO DE SEGURIDAD DE DATOS\n",
        "ESTE ES UN CURSO DE SEGURIDAD DE DATOS\n",
        "\n",
        " ESTE ES UN CURSO DE SEGURIDAD DE DATOS\n",
        " ESTE ES UN CURSO DE SEGURIDAD DE DATOS\n",
        "\n",
        "AESTE ES UN CURSO DE SEGURIDAD DE DATOS\n",
        "AESTE ES UN CURSO DE SEGURIDAD DE DATOS\n",
        "\n",
        "ESTE ES UN CURSO DE SEGURIDAD DE DATOSA\n",
        "ESTE ES UN CURSO DE SEGURIDAD DE DATOSA\n",
        "\n",
        "UN MENSAJE ALEATORIO\n",
        "UN MENSAJE ALEATORIO\n",
        "```"
      ]
    },
    {
      "cell_type": "markdown",
      "id": "b3787a43",
      "metadata": {
        "id": "b3787a43"
      },
      "source": [
        "Ya tenemos los ingredientes para explicar como funciona la llamada ``EncOTP(clave, mensaje)``. Suponga que el largo de ``clave`` es ``c`` y el largo de ``mensaje`` es ``m``. Entonces ``EncOTP`` utiliza ``representar_numero`` para transformar ``clave`` en ``numero``, y utiliza ``numero`` como la semilla de ``randint``. Una vez hecho esto, utiliza ``randint`` para general números ``n_1``, ``n_2``, ..., cada uno entre ``0`` y ``32**c - 1``, los cuales son transformados en claves ``clave_1``, ``clave_2``, ..., cada una de largo ``c``. Este proceso continua hasta que la concatenación ``clave_1 clave_2 ... clave_t`` tenga un largo total mayor a igual a ``m``, en cuyo caso se deja los primeros ``m`` símbolos de ``clave_1 clave_2 ... clave_t`` como la clave a ser utilizada por OTP a través de la función ``_EncOTP``. La función ``DecOTP`` es definida de la misma forma."
      ]
    },
    {
      "cell_type": "code",
      "execution_count": 29,
      "id": "787ac431",
      "metadata": {
        "id": "787ac431"
      },
      "outputs": [],
      "source": [
        "def EncOTP(clave, mensaje):\n",
        "    c = len(clave)\n",
        "    m = len(mensaje)\n",
        "\n",
        "    numero = representar_numero(clave)\n",
        "    random.seed(numero)\n",
        "    clave_total = \"\"\n",
        "    while len(clave_total) < m:\n",
        "        aleatorio = random.randint(0, 32**c - 1)\n",
        "        clave_parcial = representar_clave(aleatorio, c)\n",
        "        clave_total += clave_parcial\n",
        "    clave_final = clave_total[:m]\n",
        "    return _EncOTP(clave_final, mensaje)\n",
        "\n",
        "\n",
        "def DecOTP(clave, mensaje):\n",
        "    c = len(clave)\n",
        "    m = len(mensaje)\n",
        "\n",
        "    numero = representar_numero(clave)\n",
        "    random.seed(numero)\n",
        "\n",
        "    clave_total = \"\"\n",
        "    while len(clave_total) < m:\n",
        "        aleatorio = random.randint(0, 32**c - 1)\n",
        "        clave_parcial = representar_clave(aleatorio, c)\n",
        "        clave_total += clave_parcial\n",
        "\n",
        "    clave_final = clave_total[:m]\n",
        "\n",
        "    return _DecOTP(clave_final, mensaje)\n",
        "\n"
      ]
    },
    {
      "cell_type": "markdown",
      "id": "49b5103f",
      "metadata": {
        "id": "49b5103f"
      },
      "source": [
        "A continuación dejamos una serie de ejemplos que ustede debe utilizar para verificar que sus implementaciones de las funciones ``EncOTP`` y ``DecOTP`` son correctas."
      ]
    },
    {
      "cell_type": "code",
      "execution_count": 30,
      "id": "5406d25f",
      "metadata": {
        "id": "5406d25f",
        "colab": {
          "base_uri": "https://localhost:8080/"
        },
        "outputId": "a3a15f03-0996-4eb7-9741-125fb0c82373"
      },
      "outputs": [
        {
          "output_type": "stream",
          "name": "stdout",
          "text": [
            "HOLA\n",
            "IEUO\n",
            "HOLA\n",
            "--------------------\n",
            "ESTE ES UN PRIMER MENSAJE.\n",
            "FI,S ETSTULLQMAQ ZWZTKYIR;\n",
            "ESTE ES UN PRIMER MENSAJE.\n",
            "--------------------\n",
            "ESTE ES UN SEGUNDO MENSAJE.\n",
            "FI,S ETSTULODKIZMNEBKFK;WG \n",
            "ESTE ES UN SEGUNDO MENSAJE.\n",
            "--------------------\n",
            "AQUI TRATAMOS DE COLOCAR UNA FRASE MUCHO MAS LARGA!\n",
            "BG.W TSYSH.KR!XQDBYAU YQHWK\n",
            "DFJDUWKEMZ.!KNHQO\n",
            "GHSV,\n",
            "AQUI TRATAMOS DE COLOCAR UNA FRASE MUCHO MAS LARGA!\n",
            "--------------------\n",
            "ESTE ES UN ULTIMO MENSAJE DE PRUEBA, EL CUAL ES MAS LARGO QUE LOS ANTERIORES.\n",
            "FI,S ETSTULQKX,YXZWZTKYIR,A;DPJXGTQUS\n",
            "BKSVHJOUYQYVQCOBGOORFPUTLHLROR\n",
            "XVQJJNB\n",
            "\n",
            "ESTE ES UN ULTIMO MENSAJE DE PRUEBA, EL CUAL ES MAS LARGO QUE LOS ANTERIORES.\n",
            "--------------------\n"
          ]
        }
      ],
      "source": [
        "mensajes = [\"HOLA\", \"ESTE ES UN PRIMER MENSAJE.\", \"ESTE ES UN SEGUNDO MENSAJE.\",\n",
        "            \"AQUI TRATAMOS DE COLOCAR UNA FRASE MUCHO MAS LARGA!\",\n",
        "            \"ESTE ES UN ULTIMO MENSAJE DE PRUEBA, EL CUAL ES MAS LARGO QUE LOS ANTERIORES.\"]\n",
        "\n",
        "for mensaje in mensajes:\n",
        "    cifrado = EncOTP(\"XHTODERF\", mensaje)\n",
        "    descifrado = DecOTP(\"XHTODERF\", cifrado)\n",
        "    print(f\"{mensaje}\\n{cifrado}\\n{descifrado}\\n--------------------\")"
      ]
    },
    {
      "cell_type": "markdown",
      "id": "332e21e0",
      "metadata": {
        "id": "332e21e0"
      },
      "source": [
        "En particular, en este caso usted debe obtener el siguiente resultado:\n",
        "```\n",
        "HOLA\n",
        "IEUO\n",
        "HOLA\n",
        "--------------------\n",
        "ESTE ES UN PRIMER MENSAJE.\n",
        "FI,S ETSTULLQMAQ ZWZTKYIR;\n",
        "ESTE ES UN PRIMER MENSAJE.\n",
        "--------------------\n",
        "ESTE ES UN SEGUNDO MENSAJE.\n",
        "FI,S ETSTULODKIZMNEBKFK;WG\n",
        "ESTE ES UN SEGUNDO MENSAJE.\n",
        "--------------------\n",
        "AQUI TRATAMOS DE COLOCAR UNA FRASE MUCHO MAS LARGA!\n",
        "BG.W TSYSH.KR!XQDBYAU YQHWK\n",
        "DFJDUWKEMZ.!KNHQO\n",
        "GHSV,\n",
        "AQUI TRATAMOS DE COLOCAR UNA FRASE MUCHO MAS LARGA!\n",
        "--------------------\n",
        "ESTE ES UN ULTIMO MENSAJE DE PRUEBA, EL CUAL ES MAS LARGO QUE LOS ANTERIORES.\n",
        "FI,S ETSTULQKX,YXZWZTKYIR,A;DPJXGTQUS\n",
        "BKSVHJOUYQYVQCOBGOORFPUTLHLROR\n",
        "XVQJJNB\n",
        "\n",
        "ESTE ES UN ULTIMO MENSAJE DE PRUEBA, EL CUAL ES MAS LARGO QUE LOS ANTERIORES.\n",
        "--------------------\n",
        "```"
      ]
    },
    {
      "cell_type": "markdown",
      "id": "35c19888",
      "metadata": {
        "id": "35c19888"
      },
      "source": [
        "Y como un último ejemplo, mostramos como se cifra utilizado OTP el poema \"LOS HERALDOS NEGROS\" de César Vallejo. Usted también debe utilizar este ejemplo para verificar que su implementación es correcta. En particular, debe revisar que el poema original se obtiene como resultado del proceso de cifrar y luego descifrar el poema con OTP."
      ]
    },
    {
      "cell_type": "code",
      "execution_count": 31,
      "id": "5523d6bd",
      "metadata": {
        "id": "5523d6bd",
        "colab": {
          "base_uri": "https://localhost:8080/"
        },
        "outputId": "bf5d3361-bf17-4145-ad35-0f5d50d44459"
      },
      "outputs": [
        {
          "output_type": "stream",
          "name": "stdout",
          "text": [
            "Mensaje:\n",
            "LOS HERALDOS NEGROS\n",
            "\n",
            "HAY GOLPES EN LA VIDA, TAN FUERTES... YO NO SE!\n",
            "GOLPES COMO DEL ODIO DE DIOS; COMO SI ANTE ELLOS,\n",
            "LA RESACA DE TODO LO SUFRIDO\n",
            "SE EMPOZARA EN EL ALMA... YO NO SE!\n",
            "\n",
            "SON POCOS, PERO SON... ABREN ZANJAS OSCURAS\n",
            "EN EL ROSTRO MAS FIERO Y EN EL LOMO MAS FUERTE.\n",
            "SERAN TAL VEZ LOS POTROS DE BARBAROS ATILAS;\n",
            "O LOS HERALDOS NEGROS QUE NOS MANDA LA MUERTE.\n",
            "\n",
            "SON LAS CAIDAS HONDAS DE LOS CRISTOS DEL ALMA,\n",
            "DE ALGUNA FE ADORABLE QUE EL DESTINO BLASFEMA.\n",
            "ESOS GOLPES SANGRIENTOS SON LAS CREPITACIONES\n",
            "DE ALGUN PAN QUE EN LA PUERTA DEL HORNO SE NOS QUEMA.\n",
            "\n",
            "Y EL HOMBRE... POBRE...POBRE! VUELVE LOS OJOS, COMO\n",
            "CUANDO POR SOBRE EL HOMBRO NOS LLAMA UNA PALMADA;\n",
            "VUELVE LOS OJOS LOCOS, Y TODO LO VIVIDO\n",
            "SE EMPOZA, COMO CHARCO DE CULPA, EN LA MIRADA.\n",
            "\n",
            "HAY GOLPES EN LA VIDA, TAN FUERTES... YO NO SE!\n",
            "\n",
            "\n",
            "Cifrado:\n",
            "ME\n",
            "IHESYKK;OZRYS N,QB;YXHILGYEK.G;KDYRLYTBDYHQTQRJCZWFHF.UPT!TNHTJSCDZSTK,\n",
            "JACWVZESDYQVWUI.JEPNM\n",
            "H,TUKCTN C,OLYB,ZGPDH.JWW RFTXPST\n",
            "AHEA;Q;\n",
            "JYSX NCP UFEC;CB,NDOCTF\n",
            ".B UYN\n",
            "C!L!FIHW RR   .GQYCXOWVYH!!E,QEWE;WCCD\n",
            "FIN,NVASNXH!N,H. EMWWZCCBRG;PR,ISCNAO.RDOUCVT.AP;, YWVWN KATQTD;P,K;E;DPHQHR!F;VJSG.\n",
            "KOEX.LVFU,JWNUJMKEPPXWUY\n",
            "FOHGMV,!QV;.M MQHFDYHB;,YT!Q,;JZIURE!CT!.RB!OAATAPKVXY,WOY\n",
            "ARFU,ADV.HHNCSUJJYGYECUHK!CPQYARBIGNQ\n",
            "WUVSNCHVB,.OMIRZA.MW\n",
            "PO,HGGMDJRGOG.DNGX !O KDZHKXSTCXY UWYLPCGQPB Z!ERHURNKO;HMA,\n",
            "D!OEA;.PQJWSTCTXHOEYDZF NR.\n",
            ".!A\n",
            " ZZWLFZXT\n",
            "KFW!LXRTU,VPJS;UZ\n",
            "JCPMJBO;LQELZS.LJEPFTBCYNAF,\n",
            "WPYCHNENBLPBWLXRVM;BCU!WR.HEYXYQL\n",
            "JDA,\n",
            "R, BINZW.H;IVNXMYF!DGW!EXWX XXNCYVUD,;OSOC.WMGO!V.OQQAFSLB.YFN\n",
            "SM UKVQOZSL \n",
            "MFGF\n",
            "FUGJ!IESHC!DTZ,UTK LJAII,LCFA;GX\n",
            "MELQSXIVCKIPNU!B\n",
            "O!YCPNEII;.VGG\n",
            "!GEFZYCY!EIEDOBC.JUVLYUNAEKHLC\n",
            "\n",
            "\n",
            "Mensaje descifrado:\n",
            "LOS HERALDOS NEGROS\n",
            "\n",
            "HAY GOLPES EN LA VIDA, TAN FUERTES... YO NO SE!\n",
            "GOLPES COMO DEL ODIO DE DIOS; COMO SI ANTE ELLOS,\n",
            "LA RESACA DE TODO LO SUFRIDO\n",
            "SE EMPOZARA EN EL ALMA... YO NO SE!\n",
            "\n",
            "SON POCOS, PERO SON... ABREN ZANJAS OSCURAS\n",
            "EN EL ROSTRO MAS FIERO Y EN EL LOMO MAS FUERTE.\n",
            "SERAN TAL VEZ LOS POTROS DE BARBAROS ATILAS;\n",
            "O LOS HERALDOS NEGROS QUE NOS MANDA LA MUERTE.\n",
            "\n",
            "SON LAS CAIDAS HONDAS DE LOS CRISTOS DEL ALMA,\n",
            "DE ALGUNA FE ADORABLE QUE EL DESTINO BLASFEMA.\n",
            "ESOS GOLPES SANGRIENTOS SON LAS CREPITACIONES\n",
            "DE ALGUN PAN QUE EN LA PUERTA DEL HORNO SE NOS QUEMA.\n",
            "\n",
            "Y EL HOMBRE... POBRE...POBRE! VUELVE LOS OJOS, COMO\n",
            "CUANDO POR SOBRE EL HOMBRO NOS LLAMA UNA PALMADA;\n",
            "VUELVE LOS OJOS LOCOS, Y TODO LO VIVIDO\n",
            "SE EMPOZA, COMO CHARCO DE CULPA, EN LA MIRADA.\n",
            "\n",
            "HAY GOLPES EN LA VIDA, TAN FUERTES... YO NO SE!\n"
          ]
        }
      ],
      "source": [
        "mensaje = \"\"\"LOS HERALDOS NEGROS\n",
        "\n",
        "HAY GOLPES EN LA VIDA, TAN FUERTES... YO NO SE!\n",
        "GOLPES COMO DEL ODIO DE DIOS; COMO SI ANTE ELLOS,\n",
        "LA RESACA DE TODO LO SUFRIDO\n",
        "SE EMPOZARA EN EL ALMA... YO NO SE!\n",
        "\n",
        "SON POCOS, PERO SON... ABREN ZANJAS OSCURAS\n",
        "EN EL ROSTRO MAS FIERO Y EN EL LOMO MAS FUERTE.\n",
        "SERAN TAL VEZ LOS POTROS DE BARBAROS ATILAS;\n",
        "O LOS HERALDOS NEGROS QUE NOS MANDA LA MUERTE.\n",
        "\n",
        "SON LAS CAIDAS HONDAS DE LOS CRISTOS DEL ALMA,\n",
        "DE ALGUNA FE ADORABLE QUE EL DESTINO BLASFEMA.\n",
        "ESOS GOLPES SANGRIENTOS SON LAS CREPITACIONES\n",
        "DE ALGUN PAN QUE EN LA PUERTA DEL HORNO SE NOS QUEMA.\n",
        "\n",
        "Y EL HOMBRE... POBRE...POBRE! VUELVE LOS OJOS, COMO\n",
        "CUANDO POR SOBRE EL HOMBRO NOS LLAMA UNA PALMADA;\n",
        "VUELVE LOS OJOS LOCOS, Y TODO LO VIVIDO\n",
        "SE EMPOZA, COMO CHARCO DE CULPA, EN LA MIRADA.\n",
        "\n",
        "HAY GOLPES EN LA VIDA, TAN FUERTES... YO NO SE!\"\"\"\n",
        "\n",
        "cifrado = EncOTP(\"XHTODERF\", mensaje)\n",
        "descifrado = DecOTP(\"XHTODERF\", cifrado)\n",
        "print(f\"Mensaje:\\n{mensaje}\\n\\n\")\n",
        "print(f\"Cifrado:\\n{cifrado}\\n\\n\")\n",
        "print(f\"Mensaje descifrado:\\n{descifrado}\")"
      ]
    }
  ],
  "metadata": {
    "kernelspec": {
      "display_name": "Python 3 (ipykernel)",
      "language": "python",
      "name": "python3"
    },
    "language_info": {
      "codemirror_mode": {
        "name": "ipython",
        "version": 3
      },
      "file_extension": ".py",
      "mimetype": "text/x-python",
      "name": "python",
      "nbconvert_exporter": "python",
      "pygments_lexer": "ipython3",
      "version": "3.10.9"
    },
    "colab": {
      "provenance": [],
      "include_colab_link": true
    }
  },
  "nbformat": 4,
  "nbformat_minor": 5
}